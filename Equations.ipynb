{
 "cells": [
  {
   "cell_type": "code",
   "execution_count": 46,
   "metadata": {},
   "outputs": [
    {
     "name": "stdout",
     "output_type": "stream",
     "text": [
      "d_aire= 0.9388 kg/m^3\n",
      "d_aire2= 0.9388 kg/m^3\n"
     ]
    }
   ],
   "source": [
    "p_atm=100 #kPa\n",
    "R_air= 0.287 # kPa m^3/ kg K\n",
    "T_airmean= (25+171.3)/2 # °C\n",
    "T_airmean2= (25+171.3)/2 # °C\n",
    "d_air= p_atm/(R_air*(T_airmean+273)) # kg/m^3\n",
    "d_air2= p_atm/(R_air*(T_airmean2+273)) # kg/m^3\n",
    "print ('d_aire=',\"%.4f\"% d_air ,'kg/m^3')\n",
    "print ('d_aire2=',\"%.4f\"% d_air2 ,'kg/m^3')\n"
   ]
  },
  {
   "cell_type": "code",
   "execution_count": 47,
   "metadata": {},
   "outputs": [
    {
     "name": "stdout",
     "output_type": "stream",
     "text": [
      "moles de propano por metro cubico=\n",
      " 40.874 mol/m^3\n"
     ]
    }
   ],
   "source": [
    "# Calorific power of propane\n",
    "Pcalpro=2220 #kJ/mol\n",
    "R_gasid=8.314472 # Pa*m^3/mol*K\n",
    "T_pro= 25 # °C\n",
    "p_pro= 101325 # Pa\n",
    "mol= p_pro/(R_gasid*(T_pro+273.15)) # mol/m^3\n",
    "print ('moles de propano por metro cubico=\\n',\"%.3f\"% mol ,'mol/m^3') "
   ]
  },
  {
   "cell_type": "code",
   "execution_count": 48,
   "metadata": {},
   "outputs": [
    {
     "name": "stdout",
     "output_type": "stream",
     "text": [
      "90740.27645311577 kJ/m^3\n"
     ]
    }
   ],
   "source": [
    "#Energy released\n",
    "Cau_pro= 7.33*(1/1000) # l/h ---> m^3/h\n",
    "Enlib= Pcalpro*mol  # kJ/m^3\n",
    "print(Enlib, 'kJ/m^3')\n",
    "\n"
   ]
  },
  {
   "cell_type": "code",
   "execution_count": 49,
   "metadata": {},
   "outputs": [
    {
     "name": "stdout",
     "output_type": "stream",
     "text": [
      "Velflow= 92.1599 m/s\n",
      "Vflow= 0.1051 m^3/s\n"
     ]
    }
   ],
   "source": [
    "# Air flow for the exchanger of the oven 1\n",
    "import numpy as np\n",
    "pi=np.pi\n",
    "h= 16*.0254 #pulg-->m\n",
    "Velflow=((2*9.81*h*1000)/d_air)**.5 # m/s\n",
    "print ('Velflow=',\"%.4f\"% Velflow ,'m/s')\n",
    "Ac1= (pi*((1.5)*.0254)**2)/4\n",
    "Vflow= Velflow*Ac1\n",
    "print ('Vflow=',\"%.4f\"% Vflow ,'m^3/s')\n",
    "\n"
   ]
  },
  {
   "cell_type": "code",
   "execution_count": 50,
   "metadata": {},
   "outputs": [
    {
     "name": "stdout",
     "output_type": "stream",
     "text": [
      "Velflow2= 103.0379 m/s\n",
      "Vflow2= 0.2527 m^3/s\n"
     ]
    }
   ],
   "source": [
    "# Air flow for the exchanger of the oven 2\n",
    "h= 20*.0254 #pulg-->m\n",
    "Velflow2=((2*9.81*h*1000)/d_air2)**.5 # m/s\n",
    "print ('Velflow2=',\"%.4f\"% Velflow2 ,'m/s')\n",
    "Ac2= (pi*((2.2)*.0254)**2)/4\n",
    "Vflow2= Velflow2*Ac2\n",
    "print ('Vflow2=',\"%.4f\"% Vflow2 ,'m^3/s')"
   ]
  },
  {
   "cell_type": "code",
   "execution_count": 51,
   "metadata": {},
   "outputs": [
    {
     "name": "stdout",
     "output_type": "stream",
     "text": [
      "10953.184108856305\n"
     ]
    }
   ],
   "source": [
    "# lost heat by the walls oven 2\n",
    "Kfc= 0.21 # W/m*K\n",
    "Klr= 0.76 # W/m*K\n",
    "fc=.0254**2 #\n",
    "Tsi1=1300\n",
    "Tso1=20\n",
    "Tsi2=1300\n",
    "Tso2=20\n",
    "Tsi3=1300\n",
    "Tso3=20  # inventado\n",
    "Tsi4=1300\n",
    "Tso4=20\n",
    "A1=24*24*fc\n",
    "A2=24*45.5*fc\n",
    "A3=24*45.5*fc\n",
    "A4=24*45.5*fc\n",
    "Heat_Wall= ((Tsi1-Tso1)/(5.08/(Kfc*A1)+5.08/(Kfc*A1))+(Tsi2-Tso2)/(11.43/(Klr*A2)+2.54/(Kfc*A2)) \\\n",
    "        +(Tsi3-Tso3)/(11.43/(Klr*A3)+2.54/(Kfc*A3))+(Tsi4-Tso4)/(11.43/(Klr*A4)+2.54/(Kfc*A4)))*100\n",
    "print(Heat_Wall)\n",
    "\n"
   ]
  },
  {
   "cell_type": "code",
   "execution_count": 52,
   "metadata": {},
   "outputs": [
    {
     "name": "stdout",
     "output_type": "stream",
     "text": [
      "4955.382339086916\n"
     ]
    }
   ],
   "source": [
    "# lost heat by oven 2 in contact with the melted glass\n",
    "Tsi=1300\n",
    "Tso5=20\n",
    "Tso6=20\n",
    "Tso7=20\n",
    "Tso8=20\n",
    "A5=24*12*fc\n",
    "A6=24*12*fc\n",
    "A7=24*12*fc\n",
    "A8=24*24*fc\n",
    "Heat_Wall2= ((Tsi-Tso5)/(11.43/(Klr*A5)+2.54/(Kfc*A5))+(Tsi-Tso6)/(11.43/(Klr*A6)+2.54/(Kfc*A6)) \\\n",
    "        +(Tsi-Tso7)/(11.43/(Klr*A7)+2.54/(Kfc*A7))+(Tsi-Tso8)/(6.35/(Klr*A8)+2.54/(Kfc*A8)))*100\n",
    "lostmid= Klr*45.5*24*fc\n",
    "print(Heat_Wall2)\n"
   ]
  },
  {
   "cell_type": "code",
   "execution_count": 53,
   "metadata": {},
   "outputs": [
    {
     "name": "stdout",
     "output_type": "stream",
     "text": [
      "557.000506967236\n"
     ]
    }
   ],
   "source": [
    "# Heat recovered by the exchanger 2\n",
    "\n",
    "Patm= 101.325 # kPa\n",
    "R_air= 0.287 # kPa m^3/ kg K\n",
    "T_freshair= 25 # grados C\n",
    "Cp_re2= 1.007 # Cp@average temperature kJ/kg*K\n",
    "T_heatedair2= 180    # Temperature of heated air\n",
    "\n",
    "Heat_re2= (Patm/(R_air*T_freshair))*Vflow2*Cp_re2*(T_heatedair2-T_freshair)\n",
    "print(Heat_re2)"
   ]
  },
  {
   "cell_type": "code",
   "execution_count": 54,
   "metadata": {},
   "outputs": [
    {
     "name": "stdout",
     "output_type": "stream",
     "text": [
      "209.6238467080996\n"
     ]
    }
   ],
   "source": [
    "# Heat gained by air flow inside of the oven 2\n",
    "\n",
    "Cp_off2= 1.007  #Cp@average temperature kJ/kg*K\n",
    "T_exhaust2= 600  # Temperature of exhaust air\n",
    "Heat_off2= (Patm/(R_air*T_heatedair2))*Vflow2*Cp_off2*(T_exhaust2-T_heatedair2)\n",
    "print(Heat_off2)"
   ]
  },
  {
   "cell_type": "code",
   "execution_count": 55,
   "metadata": {},
   "outputs": [
    {
     "data": {
      "text/plain": [
       "16118.19029465132"
      ]
     },
     "execution_count": 55,
     "metadata": {},
     "output_type": "execute_result"
    }
   ],
   "source": [
    "Heat_Wall+Heat_Wall2+Heat_off2\n"
   ]
  },
  {
   "cell_type": "code",
   "execution_count": null,
   "metadata": {},
   "outputs": [],
   "source": [
    "# lost heat by the walls oven 1\n",
    "Tsi9=1100\n",
    "Tso9=20\n",
    "Tsi10=1100\n",
    "Tso10=20\n",
    "Tsi11=1100\n",
    "Tso11=20\n",
    "Tsi12=1100\n",
    "Tso12=20\n",
    "A9=12*24*fc\n",
    "A10=24*45.5*fc\n",
    "A11=12*45.5*fc\n",
    "A12=12*45.5*fc\n",
    "\n",
    "Heat_Wall3= (Tsi9-Tso9)/(5.08/(Kfc*A9)+5.08/(Kfc*A9))+(Tsi10-Tso10)/(11.43/(Klr*A10)+2.54/(Kfc*A10)) \\\n",
    "        +(Tsi11-Tso11)/(11.43/(Klr*A11)+2.54/(Kfc*A11))+(Tsi12-Tso12)/(11.43/(Klr*A12)+2.54/(Kfc*A12))\n"
   ]
  },
  {
   "cell_type": "code",
   "execution_count": null,
   "metadata": {},
   "outputs": [],
   "source": [
    "# lost heat by oven 1 in contact with the melted glass\n",
    "Tsi=1000\n",
    "Tso13=30\n",
    "Tso14=30\n",
    "Tso15=30\n",
    "Tso8=30\n",
    "A13=12*12*fc\n",
    "A14=24*12*fc\n",
    "A15=12*12*fc\n",
    "A16=12*24*fc\n",
    "\n",
    "Heat_Wall4= (Tsi-Tso13)/(11.43/(Klr*A13)+2.54/(Kfc*A13))+(Tsi-Tso14)/(11.43/(Klr*A14)+2.54/(Kfc*A14)) \\\n",
    "        +(Tsi-Tso15)/(11.43/(Klr*A15)+2.54/(Kfc*A15))+(Tsi-Tso16)/(6.35/(Klr*A16)+2.54/(Kfc*A16))"
   ]
  },
  {
   "cell_type": "code",
   "execution_count": null,
   "metadata": {},
   "outputs": [],
   "source": [
    "# Heat recovered by the exchanger 1\n",
    "\n",
    "Patm= 101.325 # kPa\n",
    "R_air= 0.287 # kPa m^3/ kg K\n",
    "T_freshair= 25 # grados C\n",
    "Cp_re= 1.007  # Cp@average temperature kJ/kg*K\n",
    "T_heatedair= 180   # Temperature of heated air\n",
    "\n",
    "Heat_re= (Patm/(R_air*T_freshair))*Vflow*Cp_re*(T_heatedair-T_freshair)"
   ]
  },
  {
   "cell_type": "code",
   "execution_count": null,
   "metadata": {},
   "outputs": [],
   "source": [
    "# Heat gained by air flow inside of the oven 1\n",
    "\n",
    "Cp_off= 1.007  #Cp@average temperature kJ/kg*K\n",
    "T_exhaust= 600  # Temperature of exhaust air\n",
    "Heat_off= (Patm/(R_air*T_heatedair))*Vflow*Cp_off*(T_exhaust-T_heatedair)"
   ]
  },
  {
   "cell_type": "code",
   "execution_count": null,
   "metadata": {},
   "outputs": [],
   "source": []
  }
 ],
 "metadata": {
  "kernelspec": {
   "display_name": "Python 3",
   "language": "python",
   "name": "python3"
  },
  "language_info": {
   "codemirror_mode": {
    "name": "ipython",
    "version": 3
   },
   "file_extension": ".py",
   "mimetype": "text/x-python",
   "name": "python",
   "nbconvert_exporter": "python",
   "pygments_lexer": "ipython3",
   "version": "3.7.4"
  }
 },
 "nbformat": 4,
 "nbformat_minor": 2
}
